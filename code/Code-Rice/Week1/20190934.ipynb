{
 "cells": [
  {
   "cell_type": "markdown",
   "id": "05854393",
   "metadata": {},
   "source": [
    "## 실습3"
   ]
  },
  {
   "cell_type": "code",
   "execution_count": 1,
   "id": "0b167c78",
   "metadata": {},
   "outputs": [
    {
     "name": "stdout",
     "output_type": "stream",
     "text": [
      "3.255\n"
     ]
    }
   ],
   "source": [
    "X = {'A+':4.3, 'A0':4.0, 'A-':3.7,\n",
    "    'B+':3.3, 'B0':3.0, 'C-':2.7,\n",
    "    'C+':2.3, 'C0':2.0, 'C-':1.7}\n",
    "W = (3,3,1,2,2,3,3,3)\n",
    "\n",
    "sum_X = X['A+']*W[0]+X['B0']*W[1]+X['B+']*W[2]+X['A-']*W[3]+X['C+']*W[4]+X['A+']*W[5]+X['B0']*W[6]+X['C0']*W[7]\n",
    "\n",
    "sum_W = 0\n",
    "for i in range (8):\n",
    "    sum_W += W[i]\n",
    "    \n",
    "avg = sum_X/sum_W\n",
    "print(avg)"
   ]
  },
  {
   "cell_type": "markdown",
   "id": "45e66839",
   "metadata": {},
   "source": [
    "## 실습4"
   ]
  },
  {
   "cell_type": "code",
   "execution_count": 2,
   "id": "fe2e1172",
   "metadata": {},
   "outputs": [
    {
     "name": "stdout",
     "output_type": "stream",
     "text": [
      "[61.0, 45.0, 73.0, 55.0, 30.0, 36.0, 64.0, 66.0, 44.0, 53.0]\n"
     ]
    }
   ],
   "source": [
    "f=open(\"score.txt\",'r')\n",
    "lines = f.readlines()\n",
    "\n",
    "list=[]\n",
    "for i in range (10):\n",
    "    a = lines[i].split(', ')\n",
    "    \n",
    "    sum = 0\n",
    "    for j in range (5):\n",
    "        sum += int(a[j])\n",
    "        \n",
    "    avg = sum/5\n",
    "    list.append(avg)\n",
    "    \n",
    "print(list)"
   ]
  },
  {
   "cell_type": "code",
   "execution_count": null,
   "id": "c66c24a4",
   "metadata": {},
   "outputs": [],
   "source": []
  }
 ],
 "metadata": {
  "kernelspec": {
   "display_name": "Python 3 (ipykernel)",
   "language": "python",
   "name": "python3"
  },
  "language_info": {
   "codemirror_mode": {
    "name": "ipython",
    "version": 3
   },
   "file_extension": ".py",
   "mimetype": "text/x-python",
   "name": "python",
   "nbconvert_exporter": "python",
   "pygments_lexer": "ipython3",
   "version": "3.9.15"
  },
  "toc": {
   "base_numbering": 1,
   "nav_menu": {},
   "number_sections": true,
   "sideBar": true,
   "skip_h1_title": false,
   "title_cell": "Table of Contents",
   "title_sidebar": "Contents",
   "toc_cell": false,
   "toc_position": {},
   "toc_section_display": true,
   "toc_window_display": false
  }
 },
 "nbformat": 4,
 "nbformat_minor": 5
}
